{
 "cells": [
  {
   "cell_type": "code",
   "execution_count": null,
   "id": "ee446e52-4704-41ad-8293-5734a17df5f5",
   "metadata": {},
   "outputs": [],
   "source": [
    "import numpy as np\n",
    "from scipy import optimize\n",
    "import matplotlib.pyplot as plt"
   ]
  },
  {
   "cell_type": "code",
   "execution_count": null,
   "id": "8fa4abc8-39a0-4ef9-99ad-a43919e55d06",
   "metadata": {},
   "outputs": [],
   "source": [
    "file_path = '/Users/funny/Downloads/ASTR19_S22_group_project_data.txt'\n",
    "# parsing the data from the file\n",
    "import numpy as np\n",
    "import matplotlib.pyplot as plt\n",
    "from scipy.optimize import curve_fit"
   ]
  },
  {
   "cell_type": "code",
   "execution_count": null,
   "id": "bfcc74dd-3a14-44d7-9b3c-d1923b661e09",
   "metadata": {},
   "outputs": [],
   "source": [
    "# Function to parse the tidal data from the file\n",
    "def parse_tidal_data(file_path):\n",
    "    data = []\n",
    "    with open(file_path, 'r') as file:\n",
    "        for line in file:\n",
    "            if not line.startswith('#'):\n",
    "                day, time, height = line.split()\n",
    "                day = int(day)\n",
    "                hour, minute = map(int, time.split(':'))\n",
    "                total_minutes = day + (hour * 60 + minute) / (24 * 60)\n",
    "                height = float(height)\n",
    "                data.append([total_minutes, height])\n",
    "    return data\n",
    "\n",
    "\n",
    "def tidal_function(t, A, O1, O2, phase_1, phase_2, B):\n",
    "    return A * np.sin(O1 * t + phase_1) +B*np.sin(O2 * t+ phase_2)\n",
    "# this is the result of two sin functions combined, one for the 12 hour cycle, and one for the 24 hour cycle \n",
    "\n",
    "##part 1"
   ]
  }
 ],
 "metadata": {
  "kernelspec": {
   "display_name": "Python 3 (ipykernel)",
   "language": "python",
   "name": "python3"
  },
  "language_info": {
   "codemirror_mode": {
    "name": "ipython",
    "version": 3
   },
   "file_extension": ".py",
   "mimetype": "text/x-python",
   "name": "python",
   "nbconvert_exporter": "python",
   "pygments_lexer": "ipython3",
   "version": "3.12.0"
  }
 },
 "nbformat": 4,
 "nbformat_minor": 5
}
